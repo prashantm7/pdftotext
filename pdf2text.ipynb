{
 "cells": [
  {
   "cell_type": "code",
   "execution_count": 1,
   "id": "98ba5b2f",
   "metadata": {},
   "outputs": [],
   "source": [
    "#importing libraries\n",
    "import os\n",
    "import pdftotext\n",
    "\n",
    "def pdf_input(pdfDir):\n",
    "    #change the path according your requirements to store\n",
    "    #Creating folder,to store the output .text files, if not exists!\n",
    "    folder_name = (\"INPUT FILE PATH\")   \n",
    "    if not os.path.exists(folder_name+\"/Text_output\"):\n",
    "        os.makedirs(folder_name+\"/Text_output\")\n",
    "        \n",
    "        \n",
    "    for pdf in os.listdir(pdfDir):\n",
    "            \n",
    "            #get name of pdf file\n",
    "            name=pdf.split(\".\")[0]\n",
    "            if pdf.endswith('.pdf'):\n",
    "                    \n",
    "                with open(os.path.join(pdfDir, pdf),\"rb\") as f:\n",
    "                    pdf = pdftotext.PDF(f)\n",
    "                    #print(pdf)\n",
    "                    \n",
    "                    #How many pages?\n",
    "                    #print(len(pdf))\n",
    "                    \n",
    "                    output=''\n",
    "                    for page in pdf:\n",
    "                        #print(page)\n",
    "                        output=output+page\n",
    "                        output=output.replace(\"\\r\",\"\")\n",
    "                        output=output.replace(\"\\x0c\",\"\\n\\n\")\n",
    "                        #print(output)\n",
    "                        \n",
    "                        # Read all the text into one string\n",
    "                        pages=\"\\n\".join(pdf)\n",
    "                        #print(pages)\n",
    "                        file1=open(pdfDir+\"\\Text_output\"+\"\\\\\"+name+\".txt\",'w', encoding=\"utf-8\")\n",
    "                        file1.write(output)\n",
    "                        file1.close()                        \n",
    "\n",
    "#give the files dir (whatever file in that folder,all files has converted into .txt file)                    \n",
    "pdf_input(r\"OUTPUT FILE PATH\")"
   ]
  },
  {
   "cell_type": "code",
   "execution_count": null,
   "id": "d8ff026b",
   "metadata": {},
   "outputs": [],
   "source": []
  },
  {
   "cell_type": "code",
   "execution_count": null,
   "id": "ad931de9",
   "metadata": {},
   "outputs": [],
   "source": []
  }
 ],
 "metadata": {
  "kernelspec": {
   "display_name": "Python 3 (ipykernel)",
   "language": "python",
   "name": "python3"
  },
  "language_info": {
   "codemirror_mode": {
    "name": "ipython",
    "version": 3
   },
   "file_extension": ".py",
   "mimetype": "text/x-python",
   "name": "python",
   "nbconvert_exporter": "python",
   "pygments_lexer": "ipython3",
   "version": "3.9.12"
  }
 },
 "nbformat": 4,
 "nbformat_minor": 5
}
